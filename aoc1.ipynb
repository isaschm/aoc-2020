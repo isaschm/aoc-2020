{
 "cells": [
  {
   "cell_type": "code",
   "execution_count": 8,
   "metadata": {},
   "outputs": [],
   "source": [
    "import pandas as pd\n",
    "\n",
    "path = \"input.txt\"\n",
    "data = pd.read_csv(path, sep=\" \", encoding='utf-8', header=None)"
   ]
  },
  {
   "cell_type": "code",
   "execution_count": 11,
   "metadata": {},
   "outputs": [
    {
     "data": {
      "text/plain": [
       "200"
      ]
     },
     "execution_count": 11,
     "metadata": {},
     "output_type": "execute_result"
    }
   ],
   "source": [
    "len(data[0])"
   ]
  },
  {
   "cell_type": "code",
   "execution_count": 18,
   "metadata": {},
   "outputs": [
    {
     "name": "stdout",
     "output_type": "stream",
     "text": [
      "index i: 103 und index k: 143\n",
      "Result: 252724\n",
      "index i: 143 und index k: 103\n",
      "Result: 252724\n"
     ]
    }
   ],
   "source": [
    "for i in range(len(data[0])):\n",
    "    for j in range(len(data[0])):\n",
    "        if j != i:\n",
    "            if data[0][i]+data[0][j] == 2020:\n",
    "                print(\"index i: {} und index k: {}\".format(i, j))\n",
    "                print(\"Result: {}\".format(data[0][i]*data[0][j]))"
   ]
  },
  {
   "cell_type": "code",
   "execution_count": 19,
   "metadata": {},
   "outputs": [
    {
     "name": "stdout",
     "output_type": "stream",
     "text": [
      "index i: 27 und index j: 73 und index k: 172\n",
      "Result: 276912720\n",
      "index i: 27 und index j: 172 und index k: 73\n",
      "Result: 276912720\n",
      "index i: 73 und index j: 27 und index k: 172\n",
      "Result: 276912720\n",
      "index i: 73 und index j: 172 und index k: 27\n",
      "Result: 276912720\n",
      "index i: 172 und index j: 27 und index k: 73\n",
      "Result: 276912720\n",
      "index i: 172 und index j: 73 und index k: 27\n",
      "Result: 276912720\n"
     ]
    }
   ],
   "source": [
    "for i in range(len(data[0])):\n",
    "    for j in range(len(data[0])):\n",
    "        for k in range(len(data[0])):\n",
    "            if data[0][i]+data[0][j]+data[0][k]== 2020:\n",
    "                print(\"index i: {} und index j: {} und index k: {}\".format(i, j, k))\n",
    "                print(\"Result: {}\".format(data[0][i]*data[0][j]*data[0][k]))"
   ]
  },
  {
   "cell_type": "code",
   "execution_count": null,
   "metadata": {},
   "outputs": [],
   "source": []
  }
 ],
 "metadata": {
  "kernelspec": {
   "display_name": "Python 3",
   "language": "python",
   "name": "python3"
  },
  "language_info": {
   "codemirror_mode": {
    "name": "ipython",
    "version": 3
   },
   "file_extension": ".py",
   "mimetype": "text/x-python",
   "name": "python",
   "nbconvert_exporter": "python",
   "pygments_lexer": "ipython3",
   "version": "3.8.6"
  }
 },
 "nbformat": 4,
 "nbformat_minor": 4
}
