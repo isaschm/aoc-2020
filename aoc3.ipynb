{
 "cells": [
  {
   "cell_type": "code",
   "execution_count": 88,
   "metadata": {},
   "outputs": [],
   "source": [
    "import pandas as pd\n",
    "\n",
    "path = \"input.txt\"\n",
    "data = pd.read_csv(path, sep=\" \", encoding='utf-8', header=None)"
   ]
  },
  {
   "cell_type": "code",
   "execution_count": 101,
   "metadata": {},
   "outputs": [
    {
     "name": "stdout",
     "output_type": "stream",
     "text": [
      "(323, 1)\n",
      "3968\n"
     ]
    }
   ],
   "source": [
    "print(data.shape)\n",
    "\n",
    "print(len(data[0][0]))"
   ]
  },
  {
   "cell_type": "code",
   "execution_count": 92,
   "metadata": {},
   "outputs": [],
   "source": [
    "for index in data.index:\n",
    "    while len(data.loc[index][0]) <= (data.shape[0]*7):\n",
    "        data.loc[index][0] += data.loc[index][0]"
   ]
  },
  {
   "cell_type": "code",
   "execution_count": 105,
   "metadata": {},
   "outputs": [
    {
     "name": "stdout",
     "output_type": "stream",
     "text": [
      "trees: 200\n"
     ]
    }
   ],
   "source": [
    "j=0\n",
    "three_trees=0\n",
    "for i in range(data.shape[0]):\n",
    "    if (data[0][i][j] == \"#\"):\n",
    "        three_trees+=1\n",
    "    j+=3\n",
    "\n",
    "print(\"trees: {}\".format(three_trees))"
   ]
  },
  {
   "cell_type": "code",
   "execution_count": 106,
   "metadata": {},
   "outputs": [
    {
     "name": "stdout",
     "output_type": "stream",
     "text": [
      "trees: 66\n"
     ]
    }
   ],
   "source": [
    "j=0\n",
    "one_trees=0\n",
    "for i in range(data.shape[0]):\n",
    "    if (data[0][i][j] == \"#\"):\n",
    "        one_trees+=1\n",
    "    j+=1\n",
    "print(\"trees: {}\".format(one_trees))"
   ]
  },
  {
   "cell_type": "code",
   "execution_count": 109,
   "metadata": {},
   "outputs": [
    {
     "name": "stdout",
     "output_type": "stream",
     "text": [
      "trees: 76\n"
     ]
    }
   ],
   "source": [
    "j=0\n",
    "five_trees=0\n",
    "for i in range(data.shape[0]):\n",
    "    if (data[0][i][j] == \"#\"):\n",
    "        five_trees+=1\n",
    "    j+=5\n",
    "print(\"trees: {}\".format(five_trees))"
   ]
  },
  {
   "cell_type": "code",
   "execution_count": 110,
   "metadata": {},
   "outputs": [
    {
     "name": "stdout",
     "output_type": "stream",
     "text": [
      "trees: 81\n"
     ]
    }
   ],
   "source": [
    "j=0\n",
    "seven_trees=0\n",
    "for i in range(data.shape[0]):\n",
    "    if (data[0][i][j] == \"#\"):\n",
    "        seven_trees+=1\n",
    "    j+=7\n",
    "print(\"trees: {}\".format(seven_trees))"
   ]
  },
  {
   "cell_type": "code",
   "execution_count": 113,
   "metadata": {},
   "outputs": [],
   "source": [
    "j=0\n",
    "two_trees=0\n",
    "for i in range(0,data.shape[0],2):\n",
    "    if (data[0][i][j] == \"#\"):\n",
    "        two_trees+=1\n",
    "    j+=1"
   ]
  },
  {
   "cell_type": "code",
   "execution_count": 114,
   "metadata": {},
   "outputs": [
    {
     "data": {
      "text/plain": [
       "3737923200"
      ]
     },
     "execution_count": 114,
     "metadata": {},
     "output_type": "execute_result"
    }
   ],
   "source": [
    "one_trees * two_trees * three_trees * five_trees * seven_trees"
   ]
  }
 ],
 "metadata": {
  "kernelspec": {
   "display_name": "Python 3",
   "language": "python",
   "name": "python3"
  },
  "language_info": {
   "codemirror_mode": {
    "name": "ipython",
    "version": 3
   },
   "file_extension": ".py",
   "mimetype": "text/x-python",
   "name": "python",
   "nbconvert_exporter": "python",
   "pygments_lexer": "ipython3",
   "version": "3.8.6"
  }
 },
 "nbformat": 4,
 "nbformat_minor": 4
}
