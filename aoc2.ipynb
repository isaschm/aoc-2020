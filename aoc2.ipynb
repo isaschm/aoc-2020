{
 "cells": [
  {
   "cell_type": "code",
   "execution_count": 1,
   "metadata": {},
   "outputs": [],
   "source": [
    "import pandas as pd\n",
    "\n",
    "path = \"input.txt\"\n",
    "data = pd.read_csv(path, sep=\" \", encoding='utf-8', header=None)"
   ]
  },
  {
   "cell_type": "code",
   "execution_count": 2,
   "metadata": {},
   "outputs": [
    {
     "data": {
      "text/html": [
       "<div>\n",
       "<style scoped>\n",
       "    .dataframe tbody tr th:only-of-type {\n",
       "        vertical-align: middle;\n",
       "    }\n",
       "\n",
       "    .dataframe tbody tr th {\n",
       "        vertical-align: top;\n",
       "    }\n",
       "\n",
       "    .dataframe thead th {\n",
       "        text-align: right;\n",
       "    }\n",
       "</style>\n",
       "<table border=\"1\" class=\"dataframe\">\n",
       "  <thead>\n",
       "    <tr style=\"text-align: right;\">\n",
       "      <th></th>\n",
       "      <th>0</th>\n",
       "      <th>1</th>\n",
       "      <th>2</th>\n",
       "    </tr>\n",
       "  </thead>\n",
       "  <tbody>\n",
       "    <tr>\n",
       "      <th>0</th>\n",
       "      <td>4-6</td>\n",
       "      <td>b:</td>\n",
       "      <td>bbbdbtbbbj</td>\n",
       "    </tr>\n",
       "    <tr>\n",
       "      <th>1</th>\n",
       "      <td>1-6</td>\n",
       "      <td>g:</td>\n",
       "      <td>ggvggbgggstg</td>\n",
       "    </tr>\n",
       "    <tr>\n",
       "      <th>2</th>\n",
       "      <td>1-4</td>\n",
       "      <td>s:</td>\n",
       "      <td>lssss</td>\n",
       "    </tr>\n",
       "    <tr>\n",
       "      <th>3</th>\n",
       "      <td>13-14</td>\n",
       "      <td>v:</td>\n",
       "      <td>hvvcvvvvvvvvvsvvv</td>\n",
       "    </tr>\n",
       "    <tr>\n",
       "      <th>4</th>\n",
       "      <td>3-5</td>\n",
       "      <td>m:</td>\n",
       "      <td>lcmmm</td>\n",
       "    </tr>\n",
       "    <tr>\n",
       "      <th>...</th>\n",
       "      <td>...</td>\n",
       "      <td>...</td>\n",
       "      <td>...</td>\n",
       "    </tr>\n",
       "    <tr>\n",
       "      <th>995</th>\n",
       "      <td>6-7</td>\n",
       "      <td>k:</td>\n",
       "      <td>kkkkkkl</td>\n",
       "    </tr>\n",
       "    <tr>\n",
       "      <th>996</th>\n",
       "      <td>4-6</td>\n",
       "      <td>v:</td>\n",
       "      <td>vmnfvvvvmcmlh</td>\n",
       "    </tr>\n",
       "    <tr>\n",
       "      <th>997</th>\n",
       "      <td>6-9</td>\n",
       "      <td>g:</td>\n",
       "      <td>jgcgggkbbmgbs</td>\n",
       "    </tr>\n",
       "    <tr>\n",
       "      <th>998</th>\n",
       "      <td>7-8</td>\n",
       "      <td>t:</td>\n",
       "      <td>ttcfwtgjtcttv</td>\n",
       "    </tr>\n",
       "    <tr>\n",
       "      <th>999</th>\n",
       "      <td>3-4</td>\n",
       "      <td>j:</td>\n",
       "      <td>tjjj</td>\n",
       "    </tr>\n",
       "  </tbody>\n",
       "</table>\n",
       "<p>1000 rows × 3 columns</p>\n",
       "</div>"
      ],
      "text/plain": [
       "         0   1                  2\n",
       "0      4-6  b:         bbbdbtbbbj\n",
       "1      1-6  g:       ggvggbgggstg\n",
       "2      1-4  s:              lssss\n",
       "3    13-14  v:  hvvcvvvvvvvvvsvvv\n",
       "4      3-5  m:              lcmmm\n",
       "..     ...  ..                ...\n",
       "995    6-7  k:            kkkkkkl\n",
       "996    4-6  v:      vmnfvvvvmcmlh\n",
       "997    6-9  g:      jgcgggkbbmgbs\n",
       "998    7-8  t:      ttcfwtgjtcttv\n",
       "999    3-4  j:               tjjj\n",
       "\n",
       "[1000 rows x 3 columns]"
      ]
     },
     "execution_count": 2,
     "metadata": {},
     "output_type": "execute_result"
    }
   ],
   "source": [
    "data"
   ]
  },
  {
   "cell_type": "code",
   "execution_count": 15,
   "metadata": {},
   "outputs": [
    {
     "name": "stdout",
     "output_type": "stream",
     "text": [
      "454\n"
     ]
    }
   ],
   "source": [
    "correct = 0\n",
    "for i, row in data.iterrows():\n",
    "    minmax = row[0].split(\"-\")\n",
    "    letter = row[1].replace(\":\", \"\")\n",
    "    count = row[2].count(letter)\n",
    "    if int(minmax[0]) <= count <= int(minmax[1]):\n",
    "        correct += 1\n",
    "print(correct)"
   ]
  },
  {
   "cell_type": "code",
   "execution_count": 48,
   "metadata": {},
   "outputs": [
    {
     "name": "stdout",
     "output_type": "stream",
     "text": [
      "649\n"
     ]
    }
   ],
   "source": [
    "correct = 0\n",
    "for i, row in data.iterrows():\n",
    "    minmax = row[0].split(\"-\")\n",
    "    letter = row[1].replace(\":\", \"\")\n",
    "    mini = int(minmax[0])-1\n",
    "    maxi = int(minmax[1])-1\n",
    "    if (row[2][mini] == letter):\n",
    "        if(row[2][maxi] != letter):\n",
    "            correct += 1\n",
    "    if (row[2][mini] != letter):\n",
    "        if(row[2][maxi] == letter):\n",
    "            correct += 1\n",
    "print(correct)"
   ]
  }
 ],
 "metadata": {
  "kernelspec": {
   "display_name": "Python 3",
   "language": "python",
   "name": "python3"
  },
  "language_info": {
   "codemirror_mode": {
    "name": "ipython",
    "version": 3
   },
   "file_extension": ".py",
   "mimetype": "text/x-python",
   "name": "python",
   "nbconvert_exporter": "python",
   "pygments_lexer": "ipython3",
   "version": "3.8.6"
  }
 },
 "nbformat": 4,
 "nbformat_minor": 4
}
